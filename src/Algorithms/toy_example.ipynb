{
 "cells": [
  {
   "cell_type": "code",
   "execution_count": 1,
   "metadata": {},
   "outputs": [],
   "source": [
    "import numpy as np\n",
    "import pandas as pd\n",
    "from sklearn.model_selection import train_test_split\n",
    "from sklearn.metrics import accuracy_score\n",
    "from sklearn.datasets import make_classification\n",
    "from sklearn.ensemble import AdaBoostClassifier\n",
    "from xgboost import XGBClassifier\n",
    "from sklearn.feature_selection import SelectKBest\n",
    "from functools import partial\n",
    "from MFMW import mfmw\n",
    "from tri_stage import tri_stage\n",
    "\n",
    "DATA_PATH = '../../data/'\n",
    "SEED = 10\n",
    "K=10"
   ]
  },
  {
   "cell_type": "code",
   "execution_count": 2,
   "metadata": {},
   "outputs": [],
   "source": [
    "spect_train = pd.read_csv(DATA_PATH + 'SPECT.train', header=None)\n",
    "spect_test = pd.read_csv(DATA_PATH + 'SPECT.test', header=None)\n",
    "# change last column name to class\n",
    "spect_train.columns = list(range(1, spect_train.shape[1])) + ['class']\n",
    "spect_test.columns = list(range(1, spect_test.shape[1])) + ['class']\n",
    "# name the columns\n",
    "column_names = list(map(lambda i: f'G{i}', range(1, spect_train.shape[1]))) + ['class']\n",
    "spect_train.columns = column_names\n",
    "spect_test.columns = column_names\n",
    "\n",
    "# get spect_train X, y as df\n",
    "X_spect_train = spect_train.iloc[:, :-1]\n",
    "y_spect_train = spect_train.iloc[:, -1]\n",
    "# get spect_test X, y\n",
    "X_spect_test = spect_test.iloc[:, :-1]\n",
    "y_spect_test = spect_test.iloc[:, -1]"
   ]
  },
  {
   "cell_type": "code",
   "execution_count": 3,
   "metadata": {},
   "outputs": [
    {
     "data": {
      "text/plain": [
       "0.6524064171122995"
      ]
     },
     "execution_count": 3,
     "metadata": {},
     "output_type": "execute_result"
    }
   ],
   "source": [
    "n_estimators = 100\n",
    "clf = XGBClassifier(n_estimators=n_estimators, random_state=SEED)\n",
    "# fit AdaBoost on spect_train\n",
    "clf.fit(X_spect_train, y_spect_train)\n",
    "# predict spect_test\n",
    "y_pred = clf.predict(X_spect_test)\n",
    "# calculate accuracy\n",
    "accuracy_score(y_spect_test, y_pred)"
   ]
  },
  {
   "cell_type": "code",
   "execution_count": 4,
   "metadata": {},
   "outputs": [
    {
     "name": "stdout",
     "output_type": "stream",
     "text": [
      "MFMW accuracy: 0.679144385026738\n",
      "Phase 1:\n",
      "Phase 2:\n",
      "Phase 3:\n",
      "Tri Stage accuracy: 0.7165775401069518\n"
     ]
    }
   ],
   "source": [
    "for fs, name in [(partial(mfmw, k=K), 'MFMW'), (tri_stage, 'Tri Stage')]:\n",
    "    clf = XGBClassifier(n_estimators=n_estimators, random_state=SEED)\n",
    "    # MFMW on spect_train and spect_test\n",
    "    selector = SelectKBest(fs, k=K).fit(X_spect_train, y_spect_train)\n",
    "    # fit AdaBoost on spect_train with best_subset\n",
    "    new_X_spect_train = selector.transform(X_spect_train)\n",
    "    new_X_spect_test = selector.transform(X_spect_test)\n",
    "    clf.fit(new_X_spect_train, y_spect_train)\n",
    "    # predict spect_test with best_subset\n",
    "    y_pred = clf.predict(new_X_spect_test)\n",
    "    # print accuracy\n",
    "    print(f'{name} accuracy: {accuracy_score(y_spect_test, y_pred)}')"
   ]
  },
  {
   "cell_type": "code",
   "execution_count": 5,
   "metadata": {},
   "outputs": [
    {
     "name": "stdout",
     "output_type": "stream",
     "text": [
      "Accuracy: 0.8811111111111111\n"
     ]
    }
   ],
   "source": [
    "K = 180\n",
    "# create a classification dataset with 10 features where only 5 are informative\n",
    "X, y = make_classification(n_samples=3000, n_features=300, n_informative=20, n_redundant=280, n_classes=2, random_state=SEED)\n",
    "X_train, X_test, y_train, y_test = train_test_split(X, y, test_size=0.3, random_state=SEED)\n",
    "clf = AdaBoostClassifier(n_estimators=n_estimators, random_state=SEED)\n",
    "clf.fit(X_train, y_train)\n",
    "print(\"Accuracy: {}\".format(clf.score(X_test, y_test)))"
   ]
  },
  {
   "cell_type": "code",
   "execution_count": 6,
   "metadata": {},
   "outputs": [],
   "source": [
    "# combine X_train and y_train into a dataframe\n",
    "train_set = pd.DataFrame(np.concatenate((X_train, y_train.reshape(-1, 1)), axis=1))\n",
    "# turn the last column into integers\n",
    "train_set.iloc[:, -1] = train_set.iloc[:, -1].astype(int)\n",
    "\n",
    "# combine X_test and y_test into a dataframe\n",
    "test_set = pd.DataFrame(np.concatenate((X_test, y_test.reshape(-1, 1)), axis=1))\n",
    "# turn the last column into integers\n",
    "test_set.iloc[:, -1] = test_set.iloc[:, -1].astype(int)\n",
    "\n",
    "# get X, y of train_set\n",
    "X_train, y_train = train_set.iloc[:, :-1], train_set.iloc[:, -1]"
   ]
  },
  {
   "cell_type": "code",
   "execution_count": 7,
   "metadata": {},
   "outputs": [
    {
     "name": "stdout",
     "output_type": "stream",
     "text": [
      "MFMW accuracy: 0.8922222222222222\n",
      "Phase 1:\n",
      "Phase 2:\n",
      "Phase 3:\n",
      "Tri Stage accuracy: 0.89\n"
     ]
    }
   ],
   "source": [
    "for fs, name in [(partial(mfmw, k=K), 'MFMW'), (tri_stage, 'Tri Stage')]:\n",
    "    selector = SelectKBest(fs, k=K).fit(X_train, y_train)\n",
    "    best_X_train, best_X_test = selector.transform(X_train), selector.transform(X_test)\n",
    "    # fit the classifier again\n",
    "    clf = AdaBoostClassifier(n_estimators=n_estimators, random_state=SEED)\n",
    "    clf.fit(best_X_train, y_train)\n",
    "\n",
    "    # print the accuracy of the classifier\n",
    "    print(f\"{name} accuracy: {clf.score(best_X_test, y_test)}\")"
   ]
  }
 ],
 "metadata": {
  "kernelspec": {
   "display_name": "Python 3.9.1 64-bit",
   "language": "python",
   "name": "python3"
  },
  "language_info": {
   "codemirror_mode": {
    "name": "ipython",
    "version": 3
   },
   "file_extension": ".py",
   "mimetype": "text/x-python",
   "name": "python",
   "nbconvert_exporter": "python",
   "pygments_lexer": "ipython3",
   "version": "3.9.1"
  },
  "orig_nbformat": 4,
  "vscode": {
   "interpreter": {
    "hash": "82ed002fa2d4956f5c6aec99bcefe0f73a9f79882f3c9e2319b14958a5896ac5"
   }
  }
 },
 "nbformat": 4,
 "nbformat_minor": 2
}
