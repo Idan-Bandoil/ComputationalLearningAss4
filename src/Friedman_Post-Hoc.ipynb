{
 "cells": [
  {
   "cell_type": "code",
   "execution_count": 10,
   "metadata": {},
   "outputs": [],
   "source": [
    "import numpy as np\n",
    "import pandas as pd\n",
    "from scipy import stats\n",
    "import scikit_posthocs as sp"
   ]
  },
  {
   "cell_type": "markdown",
   "metadata": {},
   "source": [
    "## Friedman Test"
   ]
  },
  {
   "cell_type": "code",
   "execution_count": 11,
   "metadata": {},
   "outputs": [
    {
     "name": "stdout",
     "output_type": "stream",
     "text": [
      "stat=264.9189527298734, p=2.6501689327869014e-54\n"
     ]
    }
   ],
   "source": [
    "data = pd.read_csv('data.csv')\n",
    "data = data[data['MeasureType'] == 'AUC']\n",
    "# drop all rows that have the string '_Aug' in the 'FilteringAlgorithm' column\n",
    "data = data[~data['FilteringAlgorithm'].str.contains('_Aug')]\n",
    "data = data.sort_values(by=['FilteringAlgorithm'])\n",
    "data = data.groupby('FilteringAlgorithm')\n",
    "\n",
    "# get the 'MeasureVal' column for each group as a list\n",
    "AUCs = data['MeasureVal'].apply(list)\n",
    "stat, p = stats.friedmanchisquare(*AUCs)\n",
    "print(f'stat={stat}, p={p}')"
   ]
  },
  {
   "cell_type": "markdown",
   "metadata": {},
   "source": [
    "We can see that the p-value for the friedman test is significantly smaller than 0.05 which means we can reject the null hypothesis that the AUC metric scores for the different filtering methods are the same."
   ]
  },
  {
   "cell_type": "markdown",
   "metadata": {},
   "source": [
    "## Post-Hoc Test"
   ]
  },
  {
   "cell_type": "code",
   "execution_count": 12,
   "metadata": {},
   "outputs": [
    {
     "data": {
      "text/html": [
       "<div>\n",
       "<style scoped>\n",
       "    .dataframe tbody tr th:only-of-type {\n",
       "        vertical-align: middle;\n",
       "    }\n",
       "\n",
       "    .dataframe tbody tr th {\n",
       "        vertical-align: top;\n",
       "    }\n",
       "\n",
       "    .dataframe thead th {\n",
       "        text-align: right;\n",
       "    }\n",
       "</style>\n",
       "<table border=\"1\" class=\"dataframe\">\n",
       "  <thead>\n",
       "    <tr style=\"text-align: right;\">\n",
       "      <th></th>\n",
       "      <th>FDR</th>\n",
       "      <th>MFMW</th>\n",
       "      <th>MFMW_New</th>\n",
       "      <th>MRMR</th>\n",
       "      <th>RFE_SVM</th>\n",
       "      <th>ReliefF</th>\n",
       "      <th>TRI_STAGE</th>\n",
       "    </tr>\n",
       "  </thead>\n",
       "  <tbody>\n",
       "    <tr>\n",
       "      <th>FDR</th>\n",
       "      <td>1.000000</td>\n",
       "      <td>0.646610</td>\n",
       "      <td>0.900000</td>\n",
       "      <td>0.001000</td>\n",
       "      <td>0.001</td>\n",
       "      <td>0.003272</td>\n",
       "      <td>0.001000</td>\n",
       "    </tr>\n",
       "    <tr>\n",
       "      <th>MFMW</th>\n",
       "      <td>0.646610</td>\n",
       "      <td>1.000000</td>\n",
       "      <td>0.900000</td>\n",
       "      <td>0.001000</td>\n",
       "      <td>0.001</td>\n",
       "      <td>0.331541</td>\n",
       "      <td>0.001000</td>\n",
       "    </tr>\n",
       "    <tr>\n",
       "      <th>MFMW_New</th>\n",
       "      <td>0.900000</td>\n",
       "      <td>0.900000</td>\n",
       "      <td>1.000000</td>\n",
       "      <td>0.001000</td>\n",
       "      <td>0.001</td>\n",
       "      <td>0.052839</td>\n",
       "      <td>0.001000</td>\n",
       "    </tr>\n",
       "    <tr>\n",
       "      <th>MRMR</th>\n",
       "      <td>0.001000</td>\n",
       "      <td>0.001000</td>\n",
       "      <td>0.001000</td>\n",
       "      <td>1.000000</td>\n",
       "      <td>0.001</td>\n",
       "      <td>0.021676</td>\n",
       "      <td>0.900000</td>\n",
       "    </tr>\n",
       "    <tr>\n",
       "      <th>RFE_SVM</th>\n",
       "      <td>0.001000</td>\n",
       "      <td>0.001000</td>\n",
       "      <td>0.001000</td>\n",
       "      <td>0.001000</td>\n",
       "      <td>1.000</td>\n",
       "      <td>0.001000</td>\n",
       "      <td>0.001000</td>\n",
       "    </tr>\n",
       "    <tr>\n",
       "      <th>ReliefF</th>\n",
       "      <td>0.003272</td>\n",
       "      <td>0.331541</td>\n",
       "      <td>0.052839</td>\n",
       "      <td>0.021676</td>\n",
       "      <td>0.001</td>\n",
       "      <td>1.000000</td>\n",
       "      <td>0.340055</td>\n",
       "    </tr>\n",
       "    <tr>\n",
       "      <th>TRI_STAGE</th>\n",
       "      <td>0.001000</td>\n",
       "      <td>0.001000</td>\n",
       "      <td>0.001000</td>\n",
       "      <td>0.900000</td>\n",
       "      <td>0.001</td>\n",
       "      <td>0.340055</td>\n",
       "      <td>1.000000</td>\n",
       "    </tr>\n",
       "  </tbody>\n",
       "</table>\n",
       "</div>"
      ],
      "text/plain": [
       "                FDR      MFMW  MFMW_New      MRMR  RFE_SVM   ReliefF  \\\n",
       "FDR        1.000000  0.646610  0.900000  0.001000    0.001  0.003272   \n",
       "MFMW       0.646610  1.000000  0.900000  0.001000    0.001  0.331541   \n",
       "MFMW_New   0.900000  0.900000  1.000000  0.001000    0.001  0.052839   \n",
       "MRMR       0.001000  0.001000  0.001000  1.000000    0.001  0.021676   \n",
       "RFE_SVM    0.001000  0.001000  0.001000  0.001000    1.000  0.001000   \n",
       "ReliefF    0.003272  0.331541  0.052839  0.021676    0.001  1.000000   \n",
       "TRI_STAGE  0.001000  0.001000  0.001000  0.900000    0.001  0.340055   \n",
       "\n",
       "           TRI_STAGE  \n",
       "FDR         0.001000  \n",
       "MFMW        0.001000  \n",
       "MFMW_New    0.001000  \n",
       "MRMR        0.900000  \n",
       "RFE_SVM     0.001000  \n",
       "ReliefF     0.340055  \n",
       "TRI_STAGE   1.000000  "
      ]
     },
     "execution_count": 12,
     "metadata": {},
     "output_type": "execute_result"
    }
   ],
   "source": [
    "# get the names of the groups\n",
    "names = data.groups.keys()\n",
    "# turn data into a numpy array\n",
    "data = np.array([x for x in AUCs])\n",
    "posthoc = sp.posthoc_nemenyi_friedman(data.T)\n",
    "posthoc.columns = names\n",
    "posthoc.index = names\n",
    "posthoc"
   ]
  },
  {
   "cell_type": "markdown",
   "metadata": {},
   "source": [
    "The Nemenyi post-hoc test returns the p-values for each pairwise comparison of means. So, for alpha = 0.05 any pair that has a p-value smaller than alpha is statistically significantly different, and the rest are not."
   ]
  }
 ],
 "metadata": {
  "kernelspec": {
   "display_name": "Python 3.9.1 64-bit",
   "language": "python",
   "name": "python3"
  },
  "language_info": {
   "codemirror_mode": {
    "name": "ipython",
    "version": 3
   },
   "file_extension": ".py",
   "mimetype": "text/x-python",
   "name": "python",
   "nbconvert_exporter": "python",
   "pygments_lexer": "ipython3",
   "version": "3.9.1"
  },
  "orig_nbformat": 4,
  "vscode": {
   "interpreter": {
    "hash": "82ed002fa2d4956f5c6aec99bcefe0f73a9f79882f3c9e2319b14958a5896ac5"
   }
  }
 },
 "nbformat": 4,
 "nbformat_minor": 2
}
